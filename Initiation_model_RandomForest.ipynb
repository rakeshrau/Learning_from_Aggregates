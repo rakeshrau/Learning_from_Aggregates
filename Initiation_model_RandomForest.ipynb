{
 "cells": [
  {
   "cell_type": "markdown",
   "metadata": {
    "application/vnd.databricks.v1+cell": {
     "cellMetadata": {
      "byteLimit": 2048000,
      "rowLimit": 10000
     },
     "inputWidgets": {},
     "nuid": "29c9ec81-67b6-40af-9563-0fbdb0abcae2",
     "showTitle": false,
     "title": ""
    }
   },
   "source": [
    "### Importing Required Packages"
   ]
  },
  {
   "cell_type": "code",
   "execution_count": 0,
   "metadata": {
    "application/vnd.databricks.v1+cell": {
     "cellMetadata": {
      "byteLimit": 2048000,
      "rowLimit": 10000
     },
     "inputWidgets": {},
     "nuid": "1a6cc40c-057b-4e4e-a873-476d565850bb",
     "showTitle": false,
     "title": ""
    }
   },
   "outputs": [],
   "source": [
    "from pyspark.sql.functions import *\n",
    "import pyspark.sql.functions as f\n",
    "import pyspark.sql.types as t\n",
    "import warnings\n",
    "warnings.filterwarnings('ignore')\n",
    "import pandas as pd\n",
    "import seaborn as sns\n",
    "import matplotlib.pyplot as plt\n",
    "import numpy as np\n",
    "from sklearn.ensemble import RandomForestClassifier\n",
    "import os"
   ]
  },
  {
   "cell_type": "code",
   "execution_count": 0,
   "metadata": {
    "application/vnd.databricks.v1+cell": {
     "cellMetadata": {
      "byteLimit": 2048000,
      "rowLimit": 10000
     },
     "inputWidgets": {},
     "nuid": "85894a54-0039-4733-a001-74e1c4ae7942",
     "showTitle": false,
     "title": ""
    }
   },
   "outputs": [],
   "source": [
    "from sklearn.preprocessing import LabelEncoder, OneHotEncoder,StandardScaler\n",
    "from sklearn.compose import ColumnTransformer\n",
    "from sklearn.impute import SimpleImputer\n",
    "from sklearn.pipeline import Pipeline\n",
    "from sklearn.model_selection import KFold,cross_val_score\n",
    "import sklearn.metrics as sk_metrics\n",
    "from sklearn.metrics import roc_auc_score\n",
    "from sklearn.metrics import confusion_matrix\n",
    "from sklearn.metrics import f1_score"
   ]
  },
  {
   "cell_type": "code",
   "execution_count": 0,
   "metadata": {
    "application/vnd.databricks.v1+cell": {
     "cellMetadata": {
      "byteLimit": 2048000,
      "rowLimit": 10000
     },
     "inputWidgets": {},
     "nuid": "d52bc989-8f6f-4c4b-af70-04bbe2e7f652",
     "showTitle": false,
     "title": ""
    }
   },
   "outputs": [],
   "source": [
    "#Setting to prevent OoM issue while handling large chunk of data\n",
    "spark.conf.set(\"spark.sql.execution.arrow.enabled\", \"false\")\n",
    "spark.conf.set(\"spark.sql.execution.arrow.pyspark.fallback.enabled\",\"false\")"
   ]
  },
  {
   "cell_type": "markdown",
   "metadata": {
    "application/vnd.databricks.v1+cell": {
     "cellMetadata": {
      "byteLimit": 2048000,
      "rowLimit": 10000
     },
     "inputWidgets": {},
     "nuid": "39e0d239-709b-4be8-904d-bef2d8d43a55",
     "showTitle": false,
     "title": ""
    }
   },
   "source": [
    "### Input Parameters"
   ]
  },
  {
   "cell_type": "code",
   "execution_count": 0,
   "metadata": {
    "application/vnd.databricks.v1+cell": {
     "cellMetadata": {
      "byteLimit": 2048000,
      "rowLimit": 10000
     },
     "inputWidgets": {},
     "nuid": "f4415d8a-f4fd-4e24-8b2c-aaf82a272ee2",
     "showTitle": false,
     "title": ""
    }
   },
   "outputs": [],
   "source": [
    "dbutils.widgets.removeAll()"
   ]
  },
  {
   "cell_type": "code",
   "execution_count": 0,
   "metadata": {
    "application/vnd.databricks.v1+cell": {
     "cellMetadata": {
      "byteLimit": 2048000,
      "rowLimit": 10000
     },
     "inputWidgets": {},
     "nuid": "5775cf13-fdc8-4784-b91f-2ce983e82164",
     "showTitle": false,
     "title": ""
    }
   },
   "outputs": [],
   "source": [
    "dbutils.widgets.text(\"Country Name\", \"Germany\")\n",
    "dbutils.widgets.text(\"Product Name\", \"TRELEGY\")\n",
    "dbutils.widgets.text(\"Target DB Name\", \"opportunity_engine\")\n",
    "dbutils.widgets.text(\"Target Table Name Prefix\", \"opportunityengine\")\n",
    "dbutils.widgets.text(\"Start Yearmonth\", \"202103\")\n",
    "dbutils.widgets.text(\"End Yearmonth\", \"202209\")\n",
    "dbutils.widgets.text(\"First Yearmonth\", \"202210\")\n",
    "dbutils.widgets.text(\"Second Yearmonth\", \"202211\")\n",
    "dbutils.widgets.text(\"Third Yearmonth\", \"202212\")"
   ]
  },
  {
   "cell_type": "code",
   "execution_count": 0,
   "metadata": {
    "application/vnd.databricks.v1+cell": {
     "cellMetadata": {
      "byteLimit": 2048000,
      "rowLimit": 10000
     },
     "inputWidgets": {},
     "nuid": "bda4d5d9-deee-4d34-92b9-77e4402f04b0",
     "showTitle": false,
     "title": ""
    }
   },
   "outputs": [],
   "source": [
    "country_name = dbutils.widgets.get(\"Country Name\")\n",
    "product_name = dbutils.widgets.get(\"Product Name\")\n",
    "tgt_dbname = dbutils.widgets.get(\"Target DB Name\")\n",
    "tgt_tblname_prefix = dbutils.widgets.get(\"Target Table Name Prefix\")\n",
    "start_yearmonth = dbutils.widgets.get(\"Start Yearmonth\")\n",
    "end_yearmonth = dbutils.widgets.get(\"End Yearmonth\")\n",
    "first_yearmonth = dbutils.widgets.get(\"First Yearmonth\")\n",
    "second_yearmonth = dbutils.widgets.get(\"Second Yearmonth\")\n",
    "third_yearmonth = dbutils.widgets.get(\"Third Yearmonth\")"
   ]
  },
  {
   "cell_type": "code",
   "execution_count": 0,
   "metadata": {
    "application/vnd.databricks.v1+cell": {
     "cellMetadata": {
      "byteLimit": 2048000,
      "rowLimit": 10000
     },
     "inputWidgets": {},
     "nuid": "58b68123-9a24-4c00-94ae-f03e743bcb43",
     "showTitle": false,
     "title": ""
    }
   },
   "outputs": [],
   "source": [
    "TrainCV= spark.sql(f\"select * from {tgt_dbname}.{tgt_tblname_prefix.lower()}_{country_name.lower()}_{product_name.lower()} where {start_yearmonth} <=yearmonth and yearmonth<= {end_yearmonth} \")\n",
    "Test= spark.sql(f\"select * from {tgt_dbname}.{tgt_tblname_prefix.lower()}_{country_name.lower()}_{product_name.lower()} where yearmonth> {end_yearmonth} \")"
   ]
  },
  {
   "cell_type": "code",
   "execution_count": 0,
   "metadata": {
    "application/vnd.databricks.v1+cell": {
     "cellMetadata": {
      "byteLimit": 2048000,
      "rowLimit": 10000
     },
     "inputWidgets": {},
     "nuid": "50092120-b0a6-441d-9c19-61335c75c307",
     "showTitle": false,
     "title": ""
    }
   },
   "outputs": [
    {
     "output_type": "stream",
     "name": "stdout",
     "output_type": "stream",
     "text": [
      "1231251\n194316\n"
     ]
    }
   ],
   "source": [
    "print(TrainCV.count())\n",
    "print(Test.count())"
   ]
  },
  {
   "cell_type": "markdown",
   "metadata": {
    "application/vnd.databricks.v1+cell": {
     "cellMetadata": {
      "byteLimit": 2048000,
      "rowLimit": 10000
     },
     "inputWidgets": {},
     "nuid": "7eb706cd-2e90-45a6-8cea-c6e5a5578211",
     "showTitle": false,
     "title": ""
    }
   },
   "source": [
    "#### Data Preprocessing"
   ]
  },
  {
   "cell_type": "code",
   "execution_count": 0,
   "metadata": {
    "application/vnd.databricks.v1+cell": {
     "cellMetadata": {
      "byteLimit": 2048000,
      "rowLimit": 10000
     },
     "inputWidgets": {},
     "nuid": "4ebb4754-48d6-4ef2-bb32-3b861e95f624",
     "showTitle": false,
     "title": ""
    }
   },
   "outputs": [
    {
     "output_type": "display_data",
     "data": {
      "text/html": [
       "<style scoped>\n",
       "  .ansiout {\n",
       "    display: block;\n",
       "    unicode-bidi: embed;\n",
       "    white-space: pre-wrap;\n",
       "    word-wrap: break-word;\n",
       "    word-break: break-all;\n",
       "    font-family: \"Menlo\", \"Monaco\", \"Consolas\", \"Ubuntu Mono\", \"Source Code Pro\", monospace;\n",
       "    font-size: 13px;\n",
       "    color: #555;\n",
       "    margin-left: 4px;\n",
       "    line-height: 19px;\n",
       "  }\n",
       "</style>"
      ]
     },
     "metadata": {
      "application/vnd.databricks.v1+output": {
       "arguments": {},
       "data": "",
       "errorSummary": "Cancelled",
       "errorTraceType": "html",
       "metadata": {},
       "type": "ipynbError"
      }
     },
     "output_type": "display_data"
    }
   ],
   "source": [
    "def convert_toPandas(sparkdf):\n",
    "  sparkdf_pd= sparkdf.toPandas()\n",
    "  sparkdf_pd = sparkdf_pd.dropna(subset=['INITIATION_CANDIDATE'])\n",
    "  sparkdf_pd.replace(r'\\s+', np.nan, regex=True)\n",
    "  sparkdf_pd.fillna(value = np.nan,inplace=True) \n",
    "  sparkdf.unpersist()\n",
    "  return sparkdf_pd\n",
    "  "
   ]
  },
  {
   "cell_type": "code",
   "execution_count": 0,
   "metadata": {
    "application/vnd.databricks.v1+cell": {
     "cellMetadata": {
      "byteLimit": 2048000,
      "rowLimit": 10000
     },
     "inputWidgets": {},
     "nuid": "2071d674-a2e4-4e67-b6f6-200af01c30cf",
     "showTitle": false,
     "title": ""
    }
   },
   "outputs": [
    {
     "output_type": "display_data",
     "data": {
      "text/html": [
       "<style scoped>\n",
       "  .ansiout {\n",
       "    display: block;\n",
       "    unicode-bidi: embed;\n",
       "    white-space: pre-wrap;\n",
       "    word-wrap: break-word;\n",
       "    word-break: break-all;\n",
       "    font-family: \"Menlo\", \"Monaco\", \"Consolas\", \"Ubuntu Mono\", \"Source Code Pro\", monospace;\n",
       "    font-size: 13px;\n",
       "    color: #555;\n",
       "    margin-left: 4px;\n",
       "    line-height: 19px;\n",
       "  }\n",
       "</style>"
      ]
     },
     "metadata": {
      "application/vnd.databricks.v1+output": {
       "arguments": {},
       "data": "",
       "errorSummary": "Command skipped",
       "errorTraceType": "html",
       "metadata": {},
       "type": "ipynbError"
      }
     },
     "output_type": "display_data"
    }
   ],
   "source": [
    "TrainCV_df = convert_toPandas(TrainCV)\n",
    "Test_df = convert_toPandas(Test)"
   ]
  },
  {
   "cell_type": "code",
   "execution_count": 0,
   "metadata": {
    "application/vnd.databricks.v1+cell": {
     "cellMetadata": {
      "byteLimit": 2048000,
      "rowLimit": 10000
     },
     "inputWidgets": {},
     "nuid": "916a101e-2726-4bdb-b2c6-15e5ec930ef9",
     "showTitle": false,
     "title": ""
    }
   },
   "outputs": [
    {
     "output_type": "display_data",
     "data": {
      "text/html": [
       "<style scoped>\n",
       "  .ansiout {\n",
       "    display: block;\n",
       "    unicode-bidi: embed;\n",
       "    white-space: pre-wrap;\n",
       "    word-wrap: break-word;\n",
       "    word-break: break-all;\n",
       "    font-family: \"Menlo\", \"Monaco\", \"Consolas\", \"Ubuntu Mono\", \"Source Code Pro\", monospace;\n",
       "    font-size: 13px;\n",
       "    color: #555;\n",
       "    margin-left: 4px;\n",
       "    line-height: 19px;\n",
       "  }\n",
       "</style>"
      ]
     },
     "metadata": {
      "application/vnd.databricks.v1+output": {
       "arguments": {},
       "data": "",
       "errorSummary": "Command skipped",
       "errorTraceType": "html",
       "metadata": {},
       "type": "ipynbError"
      }
     },
     "output_type": "display_data"
    }
   ],
   "source": [
    "def data_conversion_split(df):\n",
    "  X=df[['CORE_GSK_DO_NOT_CONTACT_STATUS_CHANGED', 'CORE_GSK_EMAIL_CONSENT_DECLINED','RX_GSK_DO_NOT_MAIL_IND', 'RX_GSK_DO_NOT_PHONE_IND', 'CORE_GSK_PRIVACY_NOTICES_SERVED', 'RX_ACCESS_INFORMATION','GENDER', 'RX_ACADEMIC_TITLE', 'RX_HCP_ACCOUNT_TYPE', 'RX_MEDICAL_INTEREST', 'SALUTATION', 'SPECIALTY_1', 'SPECIALTY_2', 'RX_PRESCRIBER_IND', 'RX_GOVERNMENT_OFFICIAL_IND', 'RX_CLINICAL_INVESTIGATOR_IND', 'RX_DISPENSING_HCP_IND', 'RX_EE_IND', 'SPEAKER_IND', 'PRODUCT_ID', 'RX_ATTITUDINAL_SEGMENTATION','HAS_ACTIVE_PLAN', 'SHARE_ELEBRATO_ELLIPTA', 'SHARE_TRELEGY','SHARE_TRIMBOW','SHARE_RELVAR', 'SHARE_SITT', 'SHARE_LABA/LAMA', 'SHARE_ICS/LABA','SHARE_ONCE_DAILY', 'SHARE_TWICE_DAILY', 'SHARE_MDI', 'SHARE_DPI','MASS_EMAIL_CONSENT','CRM_EMAIL_CONSENT','RX_SEGMENT','RX_CUSTOMER_JOURNEY','CURRENCY_CODE','VOL_ELEBRATO_ELLIPTA','VOL_TRELEGY','VOL_SITT','VOL_TRIMBOW','VOL_LABA/LAMA','VOL_TRIMBOW_NEXTHALER_+_PI','VOL_TRIXEO','AVG_SALES']]\n",
    "  Y=df[['INITIATION_CANDIDATE' ]]\n",
    "  pd.set_option('mode.chained_assignment', None)  \n",
    "  X[['CORE_GSK_DO_NOT_CONTACT_STATUS_CHANGED', 'CORE_GSK_EMAIL_CONSENT_DECLINED','RX_GSK_DO_NOT_MAIL_IND', 'RX_GSK_DO_NOT_PHONE_IND', 'CORE_GSK_PRIVACY_NOTICES_SERVED', 'RX_ACCESS_INFORMATION','GENDER', 'RX_ACADEMIC_TITLE', 'RX_HCP_ACCOUNT_TYPE', 'RX_MEDICAL_INTEREST', 'SALUTATION', 'SPECIALTY_1', 'SPECIALTY_2','RX_PRESCRIBER_IND', 'RX_GOVERNMENT_OFFICIAL_IND', 'RX_CLINICAL_INVESTIGATOR_IND', 'RX_DISPENSING_HCP_IND', 'RX_EE_IND', 'SPEAKER_IND', 'PRODUCT_ID','RX_ATTITUDINAL_SEGMENTATION', 'HAS_ACTIVE_PLAN', 'MASS_EMAIL_CONSENT', 'CRM_EMAIL_CONSENT' ,'RX_SEGMENT','RX_CUSTOMER_JOURNEY','CURRENCY_CODE']]=X[['CORE_GSK_DO_NOT_CONTACT_STATUS_CHANGED', 'CORE_GSK_EMAIL_CONSENT_DECLINED','RX_GSK_DO_NOT_MAIL_IND', 'RX_GSK_DO_NOT_PHONE_IND', 'CORE_GSK_PRIVACY_NOTICES_SERVED', 'RX_ACCESS_INFORMATION','GENDER', 'RX_ACADEMIC_TITLE', 'RX_HCP_ACCOUNT_TYPE', 'RX_MEDICAL_INTEREST', 'SALUTATION', 'SPECIALTY_1', 'SPECIALTY_2','RX_PRESCRIBER_IND', 'RX_GOVERNMENT_OFFICIAL_IND', 'RX_CLINICAL_INVESTIGATOR_IND', 'RX_DISPENSING_HCP_IND', 'RX_EE_IND', 'SPEAKER_IND', 'PRODUCT_ID','RX_ATTITUDINAL_SEGMENTATION', 'HAS_ACTIVE_PLAN', 'MASS_EMAIL_CONSENT', 'CRM_EMAIL_CONSENT' ,'RX_SEGMENT','RX_CUSTOMER_JOURNEY','CURRENCY_CODE']].astype(str)\n",
    "  return X,Y"
   ]
  },
  {
   "cell_type": "code",
   "execution_count": 0,
   "metadata": {
    "application/vnd.databricks.v1+cell": {
     "cellMetadata": {
      "byteLimit": 2048000,
      "rowLimit": 10000
     },
     "inputWidgets": {},
     "nuid": "13db08eb-9a79-4dfb-b5dc-029841339b4c",
     "showTitle": false,
     "title": ""
    }
   },
   "outputs": [
    {
     "output_type": "display_data",
     "data": {
      "text/html": [
       "<style scoped>\n",
       "  .ansiout {\n",
       "    display: block;\n",
       "    unicode-bidi: embed;\n",
       "    white-space: pre-wrap;\n",
       "    word-wrap: break-word;\n",
       "    word-break: break-all;\n",
       "    font-family: \"Menlo\", \"Monaco\", \"Consolas\", \"Ubuntu Mono\", \"Source Code Pro\", monospace;\n",
       "    font-size: 13px;\n",
       "    color: #555;\n",
       "    margin-left: 4px;\n",
       "    line-height: 19px;\n",
       "  }\n",
       "</style>"
      ]
     },
     "metadata": {
      "application/vnd.databricks.v1+output": {
       "arguments": {},
       "data": "",
       "errorSummary": "Command skipped",
       "errorTraceType": "html",
       "metadata": {},
       "type": "ipynbError"
      }
     },
     "output_type": "display_data"
    }
   ],
   "source": [
    "X_TrainCV,Y_TrainCV = data_conversion_split(TrainCV_df)\n",
    "X_Test,Y_Test=data_conversion_split(Test_df)"
   ]
  },
  {
   "cell_type": "markdown",
   "metadata": {
    "application/vnd.databricks.v1+cell": {
     "cellMetadata": {
      "byteLimit": 2048000,
      "rowLimit": 10000
     },
     "inputWidgets": {},
     "nuid": "5f297724-f13d-4ea3-9e75-75f0d637911d",
     "showTitle": false,
     "title": ""
    }
   },
   "source": [
    "#### Define the preprocessing pipeline"
   ]
  },
  {
   "cell_type": "code",
   "execution_count": 0,
   "metadata": {
    "application/vnd.databricks.v1+cell": {
     "cellMetadata": {
      "byteLimit": 2048000,
      "rowLimit": 10000
     },
     "inputWidgets": {},
     "nuid": "d85a86bd-6f98-4996-aa80-e9fb115b8831",
     "showTitle": false,
     "title": ""
    }
   },
   "outputs": [
    {
     "output_type": "display_data",
     "data": {
      "text/html": [
       "<style scoped>\n",
       "  .ansiout {\n",
       "    display: block;\n",
       "    unicode-bidi: embed;\n",
       "    white-space: pre-wrap;\n",
       "    word-wrap: break-word;\n",
       "    word-break: break-all;\n",
       "    font-family: \"Menlo\", \"Monaco\", \"Consolas\", \"Ubuntu Mono\", \"Source Code Pro\", monospace;\n",
       "    font-size: 13px;\n",
       "    color: #555;\n",
       "    margin-left: 4px;\n",
       "    line-height: 19px;\n",
       "  }\n",
       "</style>"
      ]
     },
     "metadata": {
      "application/vnd.databricks.v1+output": {
       "arguments": {},
       "data": "",
       "errorSummary": "Command skipped",
       "errorTraceType": "html",
       "metadata": {},
       "type": "ipynbError"
      }
     },
     "output_type": "display_data"
    }
   ],
   "source": [
    "def preprocessing_pipeline(numeric_features,categorical_features):\n",
    "  numeric_transformer = Pipeline(\n",
    "  steps=[(\"imputer_num\", SimpleImputer(strategy='constant',fill_value=0)), \n",
    "         (\"scaler\", StandardScaler())]\n",
    "                                )\n",
    "\n",
    "  categorical_transformer = Pipeline(\n",
    "  steps=[\n",
    "    (\"imputer_cat\", SimpleImputer(strategy='constant',fill_value='missing')),  \n",
    "    (\"encoder\", OneHotEncoder(handle_unknown=\"ignore\"))]\n",
    "                                    )\n",
    "  preprocessor = ColumnTransformer(\n",
    "  transformers=[\n",
    "      (\"cat\", categorical_transformer, categorical_features),\n",
    "      (\"num\", numeric_transformer, numeric_features)\n",
    "      \n",
    "                ],remainder='passthrough'\n",
    "                                  )\n",
    "  return preprocessor\n"
   ]
  },
  {
   "cell_type": "code",
   "execution_count": 0,
   "metadata": {
    "application/vnd.databricks.v1+cell": {
     "cellMetadata": {
      "byteLimit": 2048000,
      "rowLimit": 10000
     },
     "inputWidgets": {},
     "nuid": "8827df2d-6db7-4148-8e6a-063f9775cb4b",
     "showTitle": false,
     "title": ""
    }
   },
   "outputs": [
    {
     "output_type": "display_data",
     "data": {
      "text/html": [
       "<style scoped>\n",
       "  .ansiout {\n",
       "    display: block;\n",
       "    unicode-bidi: embed;\n",
       "    white-space: pre-wrap;\n",
       "    word-wrap: break-word;\n",
       "    word-break: break-all;\n",
       "    font-family: \"Menlo\", \"Monaco\", \"Consolas\", \"Ubuntu Mono\", \"Source Code Pro\", monospace;\n",
       "    font-size: 13px;\n",
       "    color: #555;\n",
       "    margin-left: 4px;\n",
       "    line-height: 19px;\n",
       "  }\n",
       "</style>"
      ]
     },
     "metadata": {
      "application/vnd.databricks.v1+output": {
       "arguments": {},
       "data": "",
       "errorSummary": "Command skipped",
       "errorTraceType": "html",
       "metadata": {},
       "type": "ipynbError"
      }
     },
     "output_type": "display_data"
    }
   ],
   "source": [
    "numeric_features = [ 'SHARE_ELEBRATO_ELLIPTA', 'SHARE_TRELEGY','SHARE_TRIMBOW','SHARE_RELVAR', 'SHARE_SITT', 'SHARE_LABA/LAMA', 'SHARE_ICS/LABA','SHARE_ONCE_DAILY', 'SHARE_TWICE_DAILY', 'SHARE_MDI','SHARE_DPI','VOL_ELEBRATO_ELLIPTA','VOL_TRELEGY','VOL_SITT','VOL_TRIMBOW','VOL_LABA/LAMA','VOL_TRIMBOW_NEXTHALER_+_PI','VOL_TRIXEO','AVG_SALES']\n",
    "\n",
    "categorical_features=['CORE_GSK_DO_NOT_CONTACT_STATUS_CHANGED', 'CORE_GSK_EMAIL_CONSENT_DECLINED','RX_GSK_DO_NOT_MAIL_IND', 'RX_GSK_DO_NOT_PHONE_IND', 'CORE_GSK_PRIVACY_NOTICES_SERVED', 'RX_ACCESS_INFORMATION','GENDER', 'RX_ACADEMIC_TITLE', 'RX_HCP_ACCOUNT_TYPE', 'RX_MEDICAL_INTEREST', 'SALUTATION','SPECIALTY_1','SPECIALTY_2','RX_PRESCRIBER_IND', 'RX_GOVERNMENT_OFFICIAL_IND', 'RX_CLINICAL_INVESTIGATOR_IND', 'RX_DISPENSING_HCP_IND', 'RX_EE_IND', 'SPEAKER_IND', 'PRODUCT_ID','RX_ATTITUDINAL_SEGMENTATION', 'HAS_ACTIVE_PLAN', 'MASS_EMAIL_CONSENT', 'CRM_EMAIL_CONSENT' ,'RX_SEGMENT','RX_CUSTOMER_JOURNEY','CURRENCY_CODE']\n",
    "\n",
    "preprocess= preprocessing_pipeline(numeric_features,categorical_features)"
   ]
  },
  {
   "cell_type": "code",
   "execution_count": 0,
   "metadata": {
    "application/vnd.databricks.v1+cell": {
     "cellMetadata": {
      "byteLimit": 2048000,
      "rowLimit": 10000
     },
     "inputWidgets": {},
     "nuid": "5db03dda-0d29-4826-a08e-6ce7247bb5ac",
     "showTitle": false,
     "title": ""
    }
   },
   "outputs": [
    {
     "output_type": "display_data",
     "data": {
      "text/html": [
       "<style scoped>\n",
       "  .ansiout {\n",
       "    display: block;\n",
       "    unicode-bidi: embed;\n",
       "    white-space: pre-wrap;\n",
       "    word-wrap: break-word;\n",
       "    word-break: break-all;\n",
       "    font-family: \"Menlo\", \"Monaco\", \"Consolas\", \"Ubuntu Mono\", \"Source Code Pro\", monospace;\n",
       "    font-size: 13px;\n",
       "    color: #555;\n",
       "    margin-left: 4px;\n",
       "    line-height: 19px;\n",
       "  }\n",
       "</style>"
      ]
     },
     "metadata": {
      "application/vnd.databricks.v1+output": {
       "arguments": {},
       "data": "",
       "errorSummary": "Command skipped",
       "errorTraceType": "html",
       "metadata": {},
       "type": "ipynbError"
      }
     },
     "output_type": "display_data"
    }
   ],
   "source": [
    "#Convert to Numpy Array after call to preprocess function\n",
    "X_TrainCV_transformed=(preprocess.fit_transform(X_TrainCV)).toarray()\n",
    "X_Test_transformed=(preprocess.transform(X_Test)).toarray()\n",
    "Y_TrainCV_transformed = (Y_TrainCV).to_numpy()\n",
    "Y_Test_transformed = (Y_Test).to_numpy()"
   ]
  },
  {
   "cell_type": "markdown",
   "metadata": {
    "application/vnd.databricks.v1+cell": {
     "cellMetadata": {
      "byteLimit": 2048000,
      "rowLimit": 10000
     },
     "inputWidgets": {},
     "nuid": "8648d7df-7b9f-4a18-99df-e62de218a106",
     "showTitle": false,
     "title": ""
    }
   },
   "source": [
    "#### Perform K-Fold Cross validation"
   ]
  },
  {
   "cell_type": "code",
   "execution_count": 0,
   "metadata": {
    "application/vnd.databricks.v1+cell": {
     "cellMetadata": {
      "byteLimit": 2048000,
      "rowLimit": 10000
     },
     "inputWidgets": {},
     "nuid": "c3c462c2-0152-4ee6-9841-61167492ac49",
     "showTitle": false,
     "title": ""
    }
   },
   "outputs": [
    {
     "output_type": "display_data",
     "data": {
      "text/html": [
       "<style scoped>\n",
       "  .ansiout {\n",
       "    display: block;\n",
       "    unicode-bidi: embed;\n",
       "    white-space: pre-wrap;\n",
       "    word-wrap: break-word;\n",
       "    word-break: break-all;\n",
       "    font-family: \"Menlo\", \"Monaco\", \"Consolas\", \"Ubuntu Mono\", \"Source Code Pro\", monospace;\n",
       "    font-size: 13px;\n",
       "    color: #555;\n",
       "    margin-left: 4px;\n",
       "    line-height: 19px;\n",
       "  }\n",
       "</style>"
      ]
     },
     "metadata": {
      "application/vnd.databricks.v1+output": {
       "arguments": {},
       "data": "",
       "errorSummary": "Command skipped",
       "errorTraceType": "html",
       "metadata": {},
       "type": "ipynbError"
      }
     },
     "output_type": "display_data"
    }
   ],
   "source": [
    "#Create an instance of RandomForestClassifier\n",
    "model= RandomForestClassifier()"
   ]
  },
  {
   "cell_type": "code",
   "execution_count": 0,
   "metadata": {
    "application/vnd.databricks.v1+cell": {
     "cellMetadata": {
      "byteLimit": 2048000,
      "rowLimit": 10000
     },
     "inputWidgets": {},
     "nuid": "54364129-6722-48f8-90f8-7dc72a71663d",
     "showTitle": false,
     "title": ""
    }
   },
   "outputs": [
    {
     "output_type": "display_data",
     "data": {
      "text/html": [
       "<style scoped>\n",
       "  .ansiout {\n",
       "    display: block;\n",
       "    unicode-bidi: embed;\n",
       "    white-space: pre-wrap;\n",
       "    word-wrap: break-word;\n",
       "    word-break: break-all;\n",
       "    font-family: \"Menlo\", \"Monaco\", \"Consolas\", \"Ubuntu Mono\", \"Source Code Pro\", monospace;\n",
       "    font-size: 13px;\n",
       "    color: #555;\n",
       "    margin-left: 4px;\n",
       "    line-height: 19px;\n",
       "  }\n",
       "</style>"
      ]
     },
     "metadata": {
      "application/vnd.databricks.v1+output": {
       "arguments": {},
       "data": "",
       "errorSummary": "Command skipped",
       "errorTraceType": "html",
       "metadata": {},
       "type": "ipynbError"
      }
     },
     "output_type": "display_data"
    }
   ],
   "source": [
    "# Validate the RandomForest model using K-Fold Cross Validation\n",
    "kfold = KFold(n_splits=3, shuffle=True, random_state=11)\n",
    "scores1 = []\n",
    "for train_index, test_index in kfold.split(X_TrainCV_transformed):\n",
    "    Xtrain, Xcv = X_TrainCV_transformed[train_index], X_TrainCV_transformed[test_index]\n",
    "    Ytrain, Ycv = Y_TrainCV_transformed[train_index], Y_TrainCV_transformed[test_index]\n",
    "    model.fit(Xtrain, Ytrain.ravel())\n",
    "    score1 = model.score(Xcv, Ycv)\n",
    "    scores1.append(score1)\n",
    "mean1=np.mean(scores1)\n",
    "std1=np.std(scores1)\n",
    "print(f'Score during Cross-validation are:{scores1}')\n",
    "print(f\"\\nMean Score with standard deviation is: {mean1:.2f} +/- {std1:.2f}\")"
   ]
  },
  {
   "cell_type": "markdown",
   "metadata": {
    "application/vnd.databricks.v1+cell": {
     "cellMetadata": {
      "byteLimit": 2048000,
      "rowLimit": 10000
     },
     "inputWidgets": {},
     "nuid": "1e068c28-02cf-4a1d-9bfe-3c135675b748",
     "showTitle": false,
     "title": ""
    }
   },
   "source": [
    "#### Train and Predict using RandomForest"
   ]
  },
  {
   "cell_type": "code",
   "execution_count": 0,
   "metadata": {
    "application/vnd.databricks.v1+cell": {
     "cellMetadata": {
      "byteLimit": 2048000,
      "rowLimit": 10000
     },
     "inputWidgets": {},
     "nuid": "523b3570-ce2f-4255-8f48-3369bb318036",
     "showTitle": false,
     "title": ""
    }
   },
   "outputs": [
    {
     "output_type": "stream",
     "name": "stdout",
     "output_type": "stream",
     "text": [
      "ROC_AUC score is: 0.9878884408075916\n"
     ]
    }
   ],
   "source": [
    "# Train the RandomForest model\n",
    "models= RandomForestClassifier()\n",
    "models.fit(X_TrainCV_transformed, Y_TrainCV_transformed.ravel())\n",
    "Y_pred = models.predict_proba(X_Test_transformed)[:, 1]\n",
    "print('ROC_AUC score is:',roc_auc_score(Y_Test_transformed, Y_pred))"
   ]
  },
  {
   "cell_type": "markdown",
   "metadata": {
    "application/vnd.databricks.v1+cell": {
     "cellMetadata": {
      "byteLimit": 2048000,
      "rowLimit": 10000
     },
     "inputWidgets": {},
     "nuid": "eabf4f39-cd8f-4b3f-8837-5b36dfacf9c7",
     "showTitle": false,
     "title": ""
    }
   },
   "source": [
    "#### Store the results in database"
   ]
  },
  {
   "cell_type": "code",
   "execution_count": 0,
   "metadata": {
    "application/vnd.databricks.v1+cell": {
     "cellMetadata": {
      "byteLimit": 2048000,
      "rowLimit": 10000
     },
     "inputWidgets": {},
     "nuid": "121a286e-5be5-490e-bf3e-f8ef9e00fff7",
     "showTitle": false,
     "title": ""
    }
   },
   "outputs": [
    {
     "output_type": "stream",
     "name": "stdout",
     "output_type": "stream",
     "text": [
      "    ACCOUNT_ID PRODUCT_NAME  ... YEARMONTH INITIATION_PROBABILITY\n3     16421091      Trelegy  ...  202211.0               1.000000\n4     16421091      Trelegy  ...  202210.0               1.000000\n5     16421091      Trelegy  ...  202212.0               1.000000\n9     14256361      Trelegy  ...  202211.0               0.617667\n10    14256361      Trelegy  ...  202210.0               0.523667\n\n[5 rows x 8 columns]\n"
     ]
    }
   ],
   "source": [
    "Account_df = Test_df[['ACCOUNT_ID' , 'PRODUCT_NAME' ,'RX_EU5_GSK_NANO_BRICK' ,'NANOBRICK' , 'RX_SEGMENT','RX_CUSTOMER_JOURNEY','YEARMONTH']]\n",
    "Initiation_df =pd.DataFrame(np.c_[Y_pred] ,columns= [\"INITIATION_PROBABILITY\"])\n",
    "Account_df.reset_index(drop=True, inplace=True)\n",
    "Initiation_df.reset_index(drop=True, inplace=True)\n",
    "Initiation= pd.concat([Account_df,Initiation_df], axis=1, ignore_index=False)\n",
    "Initiation = Initiation[Initiation[\"INITIATION_PROBABILITY\"]>0.5]\n",
    "print(Initiation.head())"
   ]
  },
  {
   "cell_type": "code",
   "execution_count": 0,
   "metadata": {
    "application/vnd.databricks.v1+cell": {
     "cellMetadata": {
      "byteLimit": 2048000,
      "rowLimit": 10000
     },
     "inputWidgets": {},
     "nuid": "167d2343-88e6-4621-a627-0868107dbdc8",
     "showTitle": false,
     "title": ""
    }
   },
   "outputs": [],
   "source": [
    "mySchema = t.StructType([ t.StructField(\"ACCOUNT_ID\", t.LongType(), True)\\\n",
    "                       ,t.StructField(\"PRODUCT_NAME\", t.StringType(), True)\\\n",
    "                      ,t.StructField(\"RX_EU5_GSK_NANO_BRICK\", t.StringType(), True)\\\n",
    "                      ,t.StructField(\"NANOBRICK\", t.StringType(), True)\\\n",
    "                      ,t.StructField(\"RX_SEGMENT\", t.StringType(), True)\\\n",
    "                      ,t.StructField(\"RX_CUSTOMER_JOURNEY\", t.StringType(), True)\\\n",
    "                       ,t.StructField(\"YEARMONTH\", t.DoubleType(), True)\\\n",
    "                       ,t.StructField(\"INITIATION_PROBABILITY\", t.FloatType(), True)\\\n",
    "                      ])\n",
    "Py_Initiation =  spark.createDataFrame(Initiation,schema=mySchema)\n",
    "Py_Initiation.write.mode(\"overwrite\").option(\"mergeSchema\", \"true\").saveAsTable(\n",
    "    f\"{tgt_dbname}.initiation_{country_name.lower()}_{product_name.lower()}\"\n",
    ")"
   ]
  },
  {
   "cell_type": "code",
   "execution_count": 0,
   "metadata": {
    "application/vnd.databricks.v1+cell": {
     "cellMetadata": {
      "byteLimit": 2048000,
      "rowLimit": 10000
     },
     "inputWidgets": {},
     "nuid": "cdb4652b-bb6f-438d-9706-2933ad6c538a",
     "showTitle": false,
     "title": ""
    }
   },
   "outputs": [
    {
     "output_type": "display_data",
     "data": {
      "text/html": [
       "<style scoped>\n",
       "  .ansiout {\n",
       "    display: block;\n",
       "    unicode-bidi: embed;\n",
       "    white-space: pre-wrap;\n",
       "    word-wrap: break-word;\n",
       "    word-break: break-all;\n",
       "    font-family: \"Menlo\", \"Monaco\", \"Consolas\", \"Ubuntu Mono\", \"Source Code Pro\", monospace;\n",
       "    font-size: 13px;\n",
       "    color: #555;\n",
       "    margin-left: 4px;\n",
       "    line-height: 19px;\n",
       "  }\n",
       "</style>"
      ]
     },
     "metadata": {
      "application/vnd.databricks.v1+output": {
       "arguments": {},
       "data": "",
       "errorSummary": "Command skipped",
       "errorTraceType": "html",
       "metadata": {},
       "type": "ipynbError"
      }
     },
     "output_type": "display_data"
    }
   ],
   "source": [
    "# spark.sql('drop table opportunity_engine.initiation_germany_trelegy')"
   ]
  },
  {
   "cell_type": "code",
   "execution_count": 0,
   "metadata": {
    "application/vnd.databricks.v1+cell": {
     "cellMetadata": {
      "byteLimit": 2048000,
      "rowLimit": 10000
     },
     "inputWidgets": {},
     "nuid": "3b3d48fc-c77a-47ac-913c-954e4128620c",
     "showTitle": false,
     "title": ""
    }
   },
   "outputs": [],
   "source": []
  }
 ],
 "metadata": {
  "application/vnd.databricks.v1+notebook": {
   "dashboards": [],
   "environmentMetadata": null,
   "language": "python",
   "notebookMetadata": {
    "mostRecentlyExecutedCommandWithImplicitDF": {
     "commandId": 568767066490416,
     "dataframes": [
      "_sqldf"
     ]
    },
    "pythonIndentUnit": 2
   },
   "notebookName": "Initiation_model_RandomForest",
   "widgets": {
    "Country Name": {
     "currentValue": "Germany",
     "nuid": "dcad65a0-fe85-4cd6-92fd-1d24af582728",
     "typedWidgetInfo": null,
     "widgetInfo": {
      "widgetType": "text",
      "defaultValue": "Germany",
      "label": null,
      "name": "Country Name",
      "options": {
       "widgetType": "text",
       "autoCreated": null,
       "validationRegex": null
      }
     }
    },
    "End Yearmonth": {
     "currentValue": "202209",
     "nuid": "16bb0e41-c2b2-4a89-a927-daaf0d349ebc",
     "typedWidgetInfo": null,
     "widgetInfo": {
      "widgetType": "text",
      "defaultValue": "202209",
      "label": null,
      "name": "End Yearmonth",
      "options": {
       "widgetType": "text",
       "autoCreated": null,
       "validationRegex": null
      }
     }
    },
    "First Yearmonth": {
     "currentValue": "202210",
     "nuid": "b5c33b95-4726-4e35-9937-2f8a1cee7022",
     "typedWidgetInfo": null,
     "widgetInfo": {
      "widgetType": "text",
      "defaultValue": "202210",
      "label": null,
      "name": "First Yearmonth",
      "options": {
       "widgetType": "text",
       "autoCreated": null,
       "validationRegex": null
      }
     }
    },
    "Product Name": {
     "currentValue": "TRELEGY",
     "nuid": "96626b4d-3839-4d81-8e57-d8ecbc0f9e43",
     "typedWidgetInfo": null,
     "widgetInfo": {
      "widgetType": "text",
      "defaultValue": "TRELEGY",
      "label": null,
      "name": "Product Name",
      "options": {
       "widgetType": "text",
       "autoCreated": null,
       "validationRegex": null
      }
     }
    },
    "Second Yearmonth": {
     "currentValue": "202211",
     "nuid": "fa3d78c8-ed16-4bd6-9061-36da78c035d0",
     "typedWidgetInfo": null,
     "widgetInfo": {
      "widgetType": "text",
      "defaultValue": "202211",
      "label": null,
      "name": "Second Yearmonth",
      "options": {
       "widgetType": "text",
       "autoCreated": null,
       "validationRegex": null
      }
     }
    },
    "Start Yearmonth": {
     "currentValue": "202103",
     "nuid": "ebfea503-820f-4935-bee2-de2d6d09383d",
     "typedWidgetInfo": null,
     "widgetInfo": {
      "widgetType": "text",
      "defaultValue": "202103",
      "label": null,
      "name": "Start Yearmonth",
      "options": {
       "widgetType": "text",
       "autoCreated": null,
       "validationRegex": null
      }
     }
    },
    "Target DB Name": {
     "currentValue": "opportunity_engine",
     "nuid": "6072e90e-ebf2-486c-b06e-6ad5e25291c1",
     "typedWidgetInfo": null,
     "widgetInfo": {
      "widgetType": "text",
      "defaultValue": "opportunity_engine",
      "label": null,
      "name": "Target DB Name",
      "options": {
       "widgetType": "text",
       "autoCreated": null,
       "validationRegex": null
      }
     }
    },
    "Target Table Name Prefix": {
     "currentValue": "opportunityengine",
     "nuid": "0d83f551-6faf-4ad9-9d28-561090d162ee",
     "typedWidgetInfo": null,
     "widgetInfo": {
      "widgetType": "text",
      "defaultValue": "opportunityengine",
      "label": null,
      "name": "Target Table Name Prefix",
      "options": {
       "widgetType": "text",
       "autoCreated": null,
       "validationRegex": null
      }
     }
    },
    "Third Yearmonth": {
     "currentValue": "202212",
     "nuid": "9b4146d5-c285-456f-a222-f1807b613250",
     "typedWidgetInfo": null,
     "widgetInfo": {
      "widgetType": "text",
      "defaultValue": "202212",
      "label": null,
      "name": "Third Yearmonth",
      "options": {
       "widgetType": "text",
       "autoCreated": null,
       "validationRegex": null
      }
     }
    }
   }
  }
 },
 "nbformat": 4,
 "nbformat_minor": 0
}
