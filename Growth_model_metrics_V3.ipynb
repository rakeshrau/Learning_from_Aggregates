{
 "cells": [
  {
   "cell_type": "markdown",
   "metadata": {
    "application/vnd.databricks.v1+cell": {
     "cellMetadata": {
      "byteLimit": 2048000,
      "rowLimit": 10000
     },
     "inputWidgets": {},
     "nuid": "cdf72f16-b583-4e0c-abf7-893958fd0f2e",
     "showTitle": false,
     "title": ""
    }
   },
   "source": [
    "### Importing Required Packages"
   ]
  },
  {
   "cell_type": "code",
   "execution_count": 0,
   "metadata": {
    "application/vnd.databricks.v1+cell": {
     "cellMetadata": {
      "byteLimit": 2048000,
      "rowLimit": 10000
     },
     "inputWidgets": {},
     "nuid": "f8a6045e-448c-4390-abba-9d679601f51e",
     "showTitle": false,
     "title": ""
    }
   },
   "outputs": [
    {
     "output_type": "display_data",
     "data": {
      "application/vnd.databricks.v1+bamboolib_hint": "{\"pd.DataFrames\": [], \"version\": \"0.0.1\"}",
      "text/plain": []
     },
     "metadata": {},
     "output_type": "display_data"
    }
   ],
   "source": [
    "from pyspark.sql.functions import *\n",
    "import pyspark.sql.functions as f\n",
    "import pyspark.sql.types as t\n",
    "import pandas as pd\n",
    "import numpy as np\n",
    "import warnings\n",
    "warnings.filterwarnings('ignore')\n",
    "import matplotlib.pyplot as plt\n",
    "import seaborn as sns"
   ]
  },
  {
   "cell_type": "markdown",
   "metadata": {
    "application/vnd.databricks.v1+cell": {
     "cellMetadata": {
      "byteLimit": 2048000,
      "rowLimit": 10000
     },
     "inputWidgets": {},
     "nuid": "c5a705c9-ae48-42c9-ace4-30b61f166c9b",
     "showTitle": false,
     "title": ""
    }
   },
   "source": [
    "### Input Parameters"
   ]
  },
  {
   "cell_type": "code",
   "execution_count": 0,
   "metadata": {
    "application/vnd.databricks.v1+cell": {
     "cellMetadata": {
      "byteLimit": 2048000,
      "rowLimit": 10000
     },
     "inputWidgets": {},
     "nuid": "6f733d1f-0994-4ea4-b6b7-3fb744367e51",
     "showTitle": false,
     "title": ""
    }
   },
   "outputs": [],
   "source": [
    "dbutils.widgets.removeAll()"
   ]
  },
  {
   "cell_type": "code",
   "execution_count": 0,
   "metadata": {
    "application/vnd.databricks.v1+cell": {
     "cellMetadata": {
      "byteLimit": 2048000,
      "rowLimit": 10000
     },
     "inputWidgets": {},
     "nuid": "c012b867-318f-4045-a99a-8623e71e9833",
     "showTitle": false,
     "title": ""
    }
   },
   "outputs": [],
   "source": [
    "dbutils.widgets.text(\"Country Name\", \"Germany\")\n",
    "dbutils.widgets.text(\"Product Name\", \"TRELEGY\")\n",
    "dbutils.widgets.text(\"Target DB Name\", \"opportunity_engine\")\n",
    "dbutils.widgets.text(\"Target Table Name Prefix\", \"aggregate_new\")\n",
    "dbutils.widgets.text(\"First Yearmonth\", \"202210\")\n",
    "dbutils.widgets.text(\"Second Yearmonth\", \"202211\")\n",
    "dbutils.widgets.text(\"Third Yearmonth\", \"202212\")\n",
    "dbutils.widgets.text(\"First DateYearmonth\", \"20221001\")\n",
    "dbutils.widgets.text(\"Second DateYearmonth\", \"20221101\")\n",
    "dbutils.widgets.text(\"Third DateYearmonth\", \"20221201\")\n",
    "dbutils.widgets.text(\"End DateYearmonth\", \"20230101\")"
   ]
  },
  {
   "cell_type": "code",
   "execution_count": 0,
   "metadata": {
    "application/vnd.databricks.v1+cell": {
     "cellMetadata": {
      "byteLimit": 2048000,
      "rowLimit": 10000
     },
     "inputWidgets": {},
     "nuid": "2f7c5125-356a-4046-bf25-4a6f81cfa814",
     "showTitle": false,
     "title": ""
    }
   },
   "outputs": [],
   "source": [
    "country_name = dbutils.widgets.get(\"Country Name\")\n",
    "product_name = dbutils.widgets.get(\"Product Name\")\n",
    "tgt_dbname = dbutils.widgets.get(\"Target DB Name\")\n",
    "tgt_tblname_prefix = dbutils.widgets.get(\"Target Table Name Prefix\")\n",
    "first_yearmonth = dbutils.widgets.get(\"First Yearmonth\")\n",
    "second_yearmonth = dbutils.widgets.get(\"Second Yearmonth\")\n",
    "third_yearmonth = dbutils.widgets.get(\"Third Yearmonth\")\n",
    "first_dateyearmonth = dbutils.widgets.get(\"First DateYearmonth\")\n",
    "second_dateyearmonth = dbutils.widgets.get(\"Second DateYearmonth\")\n",
    "third_dateyearmonth = dbutils.widgets.get(\"Third DateYearmonth\")\n",
    "end_dateyearmonth = dbutils.widgets.get(\"End DateYearmonth\")"
   ]
  },
  {
   "cell_type": "code",
   "execution_count": 0,
   "metadata": {
    "application/vnd.databricks.v1+cell": {
     "cellMetadata": {
      "byteLimit": 2048000,
      "rowLimit": 10000
     },
     "inputWidgets": {},
     "nuid": "6327c10a-e5a8-41bc-8994-380de0dc00d2",
     "showTitle": false,
     "title": ""
    }
   },
   "outputs": [],
   "source": [
    "#Setting to prevent OoM issue while handling large chunk of data\n",
    "spark.conf.set(\"spark.sql.execution.arrow.enabled\", \"false\")\n",
    "spark.conf.set(\"spark.sql.execution.arrow.pyspark.fallback.enabled\",\"false\")"
   ]
  },
  {
   "cell_type": "code",
   "execution_count": 0,
   "metadata": {
    "application/vnd.databricks.v1+cell": {
     "cellMetadata": {
      "byteLimit": 2048000,
      "rowLimit": 10000
     },
     "inputWidgets": {},
     "nuid": "74c93f40-e771-4788-9c07-93cec9750b00",
     "showTitle": false,
     "title": ""
    }
   },
   "outputs": [],
   "source": [
    "%run /OpportunityEngine/OpportunityEngine_Germany/Germany_Trelegy/Helper_Functions/config"
   ]
  },
  {
   "cell_type": "code",
   "execution_count": 0,
   "metadata": {
    "application/vnd.databricks.v1+cell": {
     "cellMetadata": {
      "byteLimit": 2048000,
      "rowLimit": 10000
     },
     "inputWidgets": {},
     "nuid": "bbdf4f96-05b3-487b-b9ae-5e1b9e0ccfef",
     "showTitle": false,
     "title": ""
    }
   },
   "outputs": [],
   "source": [
    "lfa= spark.sql(f\"select * from {tgt_dbname}.{tgt_tblname_prefix.lower()}_{country_name.lower()}_{product_name.lower()}\")\n",
    "lfa_df = lfa.toPandas()"
   ]
  },
  {
   "cell_type": "markdown",
   "metadata": {
    "application/vnd.databricks.v1+cell": {
     "cellMetadata": {
      "byteLimit": 2048000,
      "rowLimit": 10000
     },
     "inputWidgets": {},
     "nuid": "3e87c58f-e101-4de8-a778-771632f548e8",
     "showTitle": false,
     "title": ""
    }
   },
   "source": [
    "#### Calculate Relative Trelegy Sales"
   ]
  },
  {
   "cell_type": "code",
   "execution_count": 0,
   "metadata": {
    "application/vnd.databricks.v1+cell": {
     "cellMetadata": {
      "byteLimit": 2048000,
      "rowLimit": 10000
     },
     "inputWidgets": {},
     "nuid": "cefc199a-59f5-4767-9563-757d0a00682f",
     "showTitle": false,
     "title": ""
    }
   },
   "outputs": [],
   "source": [
    "lfa_df['TRELEGY_SALES'] = lfa_df[\"PREDICTED_SALES\"]*lfa_df[\"SHARE_SITT\"]*lfa_df[\"SHARE_TRELEGY\"]"
   ]
  },
  {
   "cell_type": "markdown",
   "metadata": {
    "application/vnd.databricks.v1+cell": {
     "cellMetadata": {
      "byteLimit": 2048000,
      "rowLimit": 10000
     },
     "inputWidgets": {},
     "nuid": "0772cafa-3d2d-4d3a-868f-6eb8185ccbbb",
     "showTitle": false,
     "title": ""
    }
   },
   "source": [
    "#### Multi Cycle Channel Plan data"
   ]
  },
  {
   "cell_type": "code",
   "execution_count": 0,
   "metadata": {
    "application/vnd.databricks.v1+cell": {
     "cellMetadata": {
      "byteLimit": 2048000,
      "rowLimit": 10000
     },
     "inputWidgets": {},
     "nuid": "f096b117-9564-40f2-ab3b-093edd7704ea",
     "showTitle": false,
     "title": ""
    }
   },
   "outputs": [
    {
     "output_type": "stream",
     "name": "stdout",
     "output_type": "stream",
     "text": [
      "        ACCOUNT_ID USER_ID\n0         15356561   50551\n1         14908221   48891\n2         15678471   49731\n3         60085501   15611\n4           644161   36051\n...            ...     ...\n183044    16730591    2591\n183045    13891351    2591\n183046    14035611   14681\n183047    16681781   14681\n183048    16174511    2661\n\n[183049 rows x 2 columns]\n"
     ]
    }
   ],
   "source": [
    "#Yearly Cycleplan\n",
    "cycleplan_year= spark.read.format('delta').load(f\"/mnt/all_data_science_gen2_curated/Global/Activity/F_MC_CYCLE_PLAN_DETAIL/REGION=BIGEU/\").filter(f.col('MARKETNAME')=='DEU').filter(f.col('DELETED_IND')==0).filter((f.col('START_DAY_ID')>=20220101) & (f.col('START_DAY_ID')<end_dateyearmonth))\n",
    "cycleplan_year = cycleplan_year.select(f.col('ACCOUNT_ID'),f.col('USER_ID'))\n",
    "cycleplan_year_df = cycleplan_year.toPandas()\n",
    "cycleplan_year_df['USER_ID'] = cycleplan_year_df['USER_ID'].astype('string')\n",
    "print(cycleplan_year_df)"
   ]
  },
  {
   "cell_type": "code",
   "execution_count": 0,
   "metadata": {
    "application/vnd.databricks.v1+cell": {
     "cellMetadata": {
      "byteLimit": 2048000,
      "rowLimit": 10000
     },
     "inputWidgets": {},
     "nuid": "ef2e3bc4-c218-4c0b-a176-90645f2d2e30",
     "showTitle": false,
     "title": ""
    }
   },
   "outputs": [
    {
     "output_type": "stream",
     "name": "stdout",
     "output_type": "stream",
     "text": [
      "      ACCOUNT_ID  USER_ID\n0       16300571    60651\n1       60338561    60651\n2       14218101    53961\n3       16765551    53961\n4       13700761    53931\n...          ...      ...\n5625       50781    56831\n5626      797801    56831\n5627    13919691    56831\n5628    14494451    56831\n5629    15871161    56831\n\n[5630 rows x 2 columns]\n*********************************************************************************************************************\n      ACCOUNT_ID  USER_ID\n0       15278821    10791\n1       13700801    61801\n2       15199341    61801\n3       16345801    61801\n4       16924421    61801\n...          ...      ...\n9512    16295231    53941\n9513    14156981    53941\n9514    14611651    56831\n9515    14677211    56831\n9516      455011    61811\n\n[9517 rows x 2 columns]\n*********************************************************************************************************************\n       ACCOUNT_ID  USER_ID\n0        14181821    11021\n1        14758111    11021\n2        15579401    11021\n3        16183241    11021\n4        16375571    16251\n...           ...      ...\n23356    60434041    10971\n23357    60896841    13211\n23358    60291181    56671\n23359    15097381    46541\n23360    31434471    18441\n\n[23361 rows x 2 columns]\n"
     ]
    }
   ],
   "source": [
    "#First month Cycleplan\n",
    "cycleplan_first= spark.read.format('delta').load(f\"/mnt/all_data_science_gen2_curated/Global/Activity/F_MC_CYCLE_PLAN_DETAIL/REGION=BIGEU/\").filter(f.col('MARKETNAME')=='DEU').filter(f.col('DELETED_IND')==0).filter((f.col('START_DAY_ID')>=first_dateyearmonth) & (f.col('START_DAY_ID')<second_dateyearmonth))\n",
    "cycleplan_first = cycleplan_first.select(f.col('ACCOUNT_ID'),f.col('USER_ID'))\n",
    "cycleplan_first_df = cycleplan_first.toPandas()\n",
    "#Second month Cycleplan\n",
    "cycleplan_second= spark.read.format('delta').load(f\"/mnt/all_data_science_gen2_curated/Global/Activity/F_MC_CYCLE_PLAN_DETAIL/REGION=BIGEU/\").filter(f.col('MARKETNAME')=='DEU').filter(f.col('DELETED_IND')==0).filter((f.col('START_DAY_ID')>=second_dateyearmonth) & (f.col('START_DAY_ID')<third_dateyearmonth))\n",
    "cycleplan_second=cycleplan_second.select(f.col('ACCOUNT_ID'),f.col('USER_ID'))\n",
    "cycleplan_second_df = cycleplan_second.toPandas()\n",
    "#Third month Cycleplan\n",
    "cycleplan_third= spark.read.format('delta').load(f\"/mnt/all_data_science_gen2_curated/Global/Activity/F_MC_CYCLE_PLAN_DETAIL/REGION=BIGEU/\").filter(f.col('MARKETNAME')=='DEU').filter(f.col('DELETED_IND')==0).filter((f.col('START_DAY_ID')>=third_dateyearmonth) & (f.col('START_DAY_ID')<end_dateyearmonth))\n",
    "cycleplan_third=cycleplan_third.select(f.col('ACCOUNT_ID'),f.col('USER_ID'))\n",
    "cycleplan_third_df = cycleplan_third.toPandas()\n",
    "print(cycleplan_first_df)\n",
    "print('*********************************************************************************************************************')\n",
    "print(cycleplan_second_df)\n",
    "print('*********************************************************************************************************************')\n",
    "print(cycleplan_third_df)"
   ]
  },
  {
   "cell_type": "markdown",
   "metadata": {
    "application/vnd.databricks.v1+cell": {
     "cellMetadata": {
      "byteLimit": 2048000,
      "rowLimit": 10000
     },
     "inputWidgets": {},
     "nuid": "6b6d4bbc-8ae4-4fa6-a29f-6b82f3de12d4",
     "showTitle": false,
     "title": ""
    }
   },
   "source": [
    "#### Assessing the composition of each segment in Cluster_Rx"
   ]
  },
  {
   "cell_type": "code",
   "execution_count": 0,
   "metadata": {
    "application/vnd.databricks.v1+cell": {
     "cellMetadata": {
      "byteLimit": 2048000,
      "rowLimit": 10000
     },
     "inputWidgets": {},
     "nuid": "250c681d-5be5-448b-a810-fb625fec6730",
     "showTitle": false,
     "title": ""
    }
   },
   "outputs": [
    {
     "output_type": "stream",
     "name": "stdout",
     "output_type": "stream",
     "text": [
      "Percent of records in RX_Segment E is: 0.00928452776459421\nPercent of records in RX_Segment A is: 0.06852159468438539\nPercent of records in RX_Segment B is: 0.17403298528713812\nPercent of records in RX_Segment C is: 0.511014871064705\nPercent of records in RX_Segment D is: 0.21530414491377947\n"
     ]
    }
   ],
   "source": [
    "countA= lfa_df[lfa_df['RX_SEGMENT']=='A'].count().sum()/lfa_df.count().sum()\n",
    "countB= lfa_df[lfa_df['RX_SEGMENT']=='B'].count().sum()/lfa_df.count().sum()\n",
    "countC= lfa_df[lfa_df['RX_SEGMENT']=='C'].count().sum()/lfa_df.count().sum()\n",
    "countD= lfa_df[lfa_df['RX_SEGMENT']=='D'].count().sum()/lfa_df.count().sum()\n",
    "countE= lfa_df[lfa_df['RX_SEGMENT']=='E'].count().sum()/lfa_df.count().sum()\n",
    "print('Percent of records in RX_Segment E is:',countE)\n",
    "print('Percent of records in RX_Segment A is:',countA)\n",
    "print('Percent of records in RX_Segment B is:',countB)\n",
    "print('Percent of records in RX_Segment C is:',countC)\n",
    "print('Percent of records in RX_Segment D is:',countD)"
   ]
  },
  {
   "cell_type": "markdown",
   "metadata": {
    "application/vnd.databricks.v1+cell": {
     "cellMetadata": {
      "byteLimit": 2048000,
      "rowLimit": 10000
     },
     "inputWidgets": {},
     "nuid": "06926245-9983-4160-ace0-8a7f2f62a97e",
     "showTitle": false,
     "title": ""
    }
   },
   "source": [
    "### Calculate the rank of HCPs in each Nanobrick per month and write to the database"
   ]
  },
  {
   "cell_type": "code",
   "execution_count": 0,
   "metadata": {
    "application/vnd.databricks.v1+cell": {
     "cellMetadata": {
      "byteLimit": 2048000,
      "rowLimit": 10000
     },
     "inputWidgets": {},
     "nuid": "e1a7d264-f2b0-4694-bd30-a14eaa72bb0f",
     "showTitle": false,
     "title": ""
    }
   },
   "outputs": [],
   "source": [
    "###############################For whole year######################################################\n",
    "mySchema = t.StructType([ t.StructField(\"ACCOUNT_ID\", t.LongType(), True)\\\n",
    "                      ,t.StructField(\"RX_EU5_GSK_NANO_BRICK\", t.StringType(), True)\\\n",
    "                      ,t.StructField(\"RX_SEGMENT\", t.StringType(), True)\\\n",
    "                      ,t.StructField(\"RX_CUSTOMER_JOURNEY\", t.StringType(), True)\\\n",
    "                      ,t.StructField(\"CALL_TYPE_WITH_MAX_INTERACTION\", t.StringType(), True)\\\n",
    "                      ,t.StructField(\"USER_ID\", t.StringType(), True)\\\n",
    "                      ,t.StructField(\"RANK\", t.StringType(), True)\\\n",
    "                      ])\n",
    "for i in [first_yearmonth,second_yearmonth,third_yearmonth]:\n",
    "  hcp_rank=lfa_df[lfa_df['YEARMONTH'].astype(float)==float(i)]\n",
    "  hcp_rank = hcp_rank[hcp_rank['Switch_toF2F']==1]\n",
    "  hcp_rank_joined = hcp_rank.merge(cycleplan_year_df, on='ACCOUNT_ID', how='left')  \n",
    "  hcp_rank_joined['USER_ID'] = hcp_rank_joined['USER_ID'].fillna(value='NA')\n",
    "  hcp_rank_joined['PERCENTILE']=hcp_rank_joined['TRELEGY_SALES'].rank(pct=True)\n",
    "  hcp_rank_joined['RANK'] = pd.cut(hcp_rank_joined['PERCENTILE'], bins=[0.0,0.75,0.92,0.99,1.0],labels=['Low','Medium','High','Critical'])\n",
    "  hcp_rank_joined =hcp_rank_joined[[\"ACCOUNT_ID\",\"RX_EU5_GSK_NANO_BRICK\",\"RX_SEGMENT\",\"RX_CUSTOMER_JOURNEY\",\"CALL_TYPE_WITH_MAX_INTERACTION\",\"USER_ID\",\"RANK\"]].sort_values(by=['RANK'],ascending=False)\n",
    "  Py_rank =  spark.createDataFrame(hcp_rank_joined,schema=mySchema)\n",
    "  Py_rank.write.mode(\"overwrite\").option(\"mergeSchema\", \"true\").saveAsTable(f\"{tgt_dbname}.growth_yearlynew_{i}_{country_name.lower()}_{product_name.lower()}\")\n",
    "  Py_rank.unpersist()\n",
    "  del(hcp_rank)\n",
    "  del(hcp_rank_joined)\n"
   ]
  },
  {
   "cell_type": "code",
   "execution_count": 0,
   "metadata": {
    "application/vnd.databricks.v1+cell": {
     "cellMetadata": {
      "byteLimit": 2048000,
      "rowLimit": 10000
     },
     "inputWidgets": {},
     "nuid": "6074c209-bd1f-4c0a-9ef1-6073831dc7e1",
     "showTitle": false,
     "title": ""
    }
   },
   "outputs": [],
   "source": [
    "mySchema = t.StructType([ t.StructField(\"ACCOUNT_ID\", t.LongType(), True)\\\n",
    "                      ,t.StructField(\"RX_EU5_GSK_NANO_BRICK\", t.StringType(), True)\\\n",
    "                      ,t.StructField(\"RX_SEGMENT\", t.StringType(), True)\\\n",
    "                      ,t.StructField(\"RX_CUSTOMER_JOURNEY\", t.StringType(), True)\\\n",
    "                      ,t.StructField(\"CALL_TYPE_WITH_MAX_INTERACTION\", t.StringType(), True)\\\n",
    "                      ,t.StructField(\"USER_ID\", t.StringType(), True)\\\n",
    "                      ,t.StructField(\"RANK\", t.StringType(), True)\\\n",
    "                      ])\n",
    "for i in [first_yearmonth,second_yearmonth,third_yearmonth]:\n",
    "  hcp_rank=lfa_df[lfa_df['YEARMONTH'].astype(float)==float(i)]\n",
    "  hcp_rank = hcp_rank[hcp_rank['Switch_toF2F']==1]\n",
    "  if i==first_yearmonth:\n",
    "    hcp_rank_joined = hcp_rank.merge(cycleplan_first_df, on='ACCOUNT_ID', how='left')\n",
    "  elif i==second_yearmonth:\n",
    "    hcp_rank_joined = hcp_rank.merge(cycleplan_second_df, on='ACCOUNT_ID', how='left')\n",
    "  elif i==third_yearmonth:\n",
    "    hcp_rank_joined = hcp_rank.merge(cycleplan_third_df, on='ACCOUNT_ID', how='left')  \n",
    "  hcp_rank_joined['PERCENTILE']=hcp_rank_joined['TRELEGY_SALES'].rank(pct=True)\n",
    "  hcp_rank_joined['RANK'] = pd.cut(hcp_rank_joined['PERCENTILE'], bins=[0.0,0.75,0.92,0.99,1.0],labels=['Low','Medium','High','Critical'])\n",
    "  hcp_rank_joined =hcp_rank_joined[[\"ACCOUNT_ID\",\"RX_EU5_GSK_NANO_BRICK\",\"RX_SEGMENT\",\"RX_CUSTOMER_JOURNEY\",\"CALL_TYPE_WITH_MAX_INTERACTION\",\"USER_ID\",\"RANK\"]].sort_values(by=['RANK'],ascending=False)\n",
    "  Py_rank =  spark.createDataFrame(hcp_rank_joined,schema=mySchema)\n",
    "  Py_rank.write.mode(\"overwrite\").option(\"mergeSchema\", \"true\").saveAsTable(f\"{tgt_dbname}.growth_new_{i}_{country_name.lower()}_{product_name.lower()}\")\n",
    "  Py_rank.unpersist()\n",
    "  del(hcp_rank)\n",
    "  del(hcp_rank_joined)\n"
   ]
  },
  {
   "cell_type": "code",
   "execution_count": 0,
   "metadata": {
    "application/vnd.databricks.v1+cell": {
     "cellMetadata": {
      "byteLimit": 2048000,
      "rowLimit": 10000
     },
     "inputWidgets": {},
     "nuid": "a3902b2b-4306-409f-ab3a-8878bdedf402",
     "showTitle": false,
     "title": ""
    }
   },
   "outputs": [
    {
     "output_type": "display_data",
     "data": {
      "text/plain": [
       ""
      ]
     },
     "metadata": {
      "application/vnd.databricks.v1+output": {
       "arguments": {},
       "data": "",
       "errorSummary": "Command skipped",
       "errorTraceType": "ansi",
       "metadata": {},
       "type": "ipynbError"
      }
     },
     "output_type": "display_data"
    }
   ],
   "source": [
    "# spark.sql('drop table opportunity_engine.growth_new_202210_germany_trelegy')\n",
    "# spark.sql('drop table opportunity_engine.growth_new_202211_germany_trelegy')\n",
    "# spark.sql('drop table opportunity_engine.growth_new_202212_germany_trelegy')"
   ]
  },
  {
   "cell_type": "markdown",
   "metadata": {
    "application/vnd.databricks.v1+cell": {
     "cellMetadata": {
      "byteLimit": 2048000,
      "rowLimit": 10000
     },
     "inputWidgets": {},
     "nuid": "c97a427c-1a59-47c3-914a-905c562b9105",
     "showTitle": false,
     "title": ""
    }
   },
   "source": [
    "#### Calculate the ratio of Segment and Rank to find overlap"
   ]
  },
  {
   "cell_type": "code",
   "execution_count": 0,
   "metadata": {
    "application/vnd.databricks.v1+cell": {
     "cellMetadata": {
      "byteLimit": 2048000,
      "rowLimit": 10000
     },
     "inputWidgets": {},
     "nuid": "17615f10-e44b-4468-afd8-04d00470ca16",
     "showTitle": false,
     "title": ""
    }
   },
   "outputs": [
    {
     "output_type": "stream",
     "name": "stdout",
     "output_type": "stream",
     "text": [
      "The ratio Segment-E and Rank Critical for the Yearmonth of 202210 is:0.130178\nThe ratio for Segment-A and Rank High for the Yearmonth of 202210 is:0.130564\nThe ratio for Segment-B and Rank Medium for the Yearmonth of 202210 is:0.213513\nThe ratio for Segment-E,A,B and Rank for the Yearmonth of 202210 is:0.186944\n************************************************************************************\nThe ratio Segment-E and Rank Critical for the Yearmonth of 202211 is:0.131343\nThe ratio for Segment-A and Rank High for the Yearmonth of 202211 is:0.131390\nThe ratio for Segment-B and Rank Medium for the Yearmonth of 202211 is:0.216556\nThe ratio for Segment-E,A,B and Rank for the Yearmonth of 202211 is:0.189250\n************************************************************************************\nThe ratio Segment-E and Rank Critical for the Yearmonth of 202212 is:0.167683\nThe ratio for Segment-A and Rank High for the Yearmonth of 202212 is:0.129427\nThe ratio for Segment-B and Rank Medium for the Yearmonth of 202212 is:0.209432\nThe ratio for Segment-E,A,B and Rank for the Yearmonth of 202212 is:0.185282\n************************************************************************************\n"
     ]
    }
   ],
   "source": [
    "for j in [first_yearmonth,second_yearmonth,third_yearmonth]:\n",
    "  monthlydata = spark.sql(f\"select * from {tgt_dbname}.growth_{j}_{country_name.lower()}_{product_name.lower()}\")\n",
    "  monthlydata_df = monthlydata.toPandas()\n",
    "  num1=((monthlydata_df[(monthlydata_df['RX_SEGMENT']=='E') & (monthlydata_df['RANK']=='Critical')]).count()).sum()\n",
    "  den1=(monthlydata_df[monthlydata_df['RANK']=='Critical'].count()).sum()\n",
    "  ratio1 = num1/den1\n",
    "  print('The ratio Segment-E and Rank Critical for the Yearmonth of %s is:%f'%(j,ratio1))\n",
    "  num2=((monthlydata_df[(monthlydata_df['RX_SEGMENT']=='A') & (monthlydata_df['RANK']=='High')]).count()).sum()\n",
    "  den2=(monthlydata_df[monthlydata_df['RANK']=='High'].count()).sum()\n",
    "  ratio2 = num2/den2\n",
    "  print('The ratio for Segment-A and Rank High for the Yearmonth of %s is:%f'%(j,ratio2))\n",
    "  num3=((monthlydata_df[(monthlydata_df['RX_SEGMENT']=='B') & (monthlydata_df['RANK']=='Medium')]).count()).sum()\n",
    "  den3=(monthlydata_df[monthlydata_df['RANK']=='Medium'].count()).sum()\n",
    "  ratio3 = num3/den3\n",
    "  print('The ratio for Segment-B and Rank Medium for the Yearmonth of %s is:%f'%(j,ratio3))\n",
    "  ratio_combined = (num1+num2+num3)/(den1+den2+den3)\n",
    "  print('The ratio for Segment-E,A,B and Rank for the Yearmonth of %s is:%f'%(j,ratio_combined))\n",
    "  print(\"************************************************************************************\")\n",
    "  monthlydata.unpersist()\n",
    "  del(monthlydata_df)"
   ]
  },
  {
   "cell_type": "markdown",
   "metadata": {
    "application/vnd.databricks.v1+cell": {
     "cellMetadata": {
      "byteLimit": 2048000,
      "rowLimit": 10000
     },
     "inputWidgets": {},
     "nuid": "10a1189b-96c0-4c57-8581-25741a0841c4",
     "showTitle": false,
     "title": ""
    }
   },
   "source": [
    "#### Analyze count of HCPs to target"
   ]
  },
  {
   "cell_type": "code",
   "execution_count": 0,
   "metadata": {
    "application/vnd.databricks.v1+cell": {
     "cellMetadata": {
      "byteLimit": 2048000,
      "rowLimit": 10000
     },
     "inputWidgets": {},
     "nuid": "0a0acdca-e704-41f9-9947-ecd5a84c936a",
     "showTitle": false,
     "title": ""
    }
   },
   "outputs": [],
   "source": [
    "Octdata = spark.sql(f\"select * from {tgt_dbname}.growth_new_{first_yearmonth}_{country_name.lower()}_{product_name.lower()}\")\n",
    "Octdata_df =Octdata.toPandas()\n",
    "Novdata = spark.sql(f\"select * from {tgt_dbname}.growth_new_{second_yearmonth}_{country_name.lower()}_{product_name.lower()}\")\n",
    "Novdata_df =Novdata.toPandas()\n",
    "Decdata = spark.sql(f\"select * from {tgt_dbname}.growth_new_{third_yearmonth}_{country_name.lower()}_{product_name.lower()}\")\n",
    "Decdata_df =Decdata.toPandas()"
   ]
  },
  {
   "cell_type": "code",
   "execution_count": 0,
   "metadata": {
    "application/vnd.databricks.v1+cell": {
     "cellMetadata": {
      "byteLimit": 2048000,
      "rowLimit": 10000
     },
     "inputWidgets": {},
     "nuid": "985a08d6-00cf-4674-87f5-fdd4afdc5766",
     "showTitle": false,
     "title": ""
    }
   },
   "outputs": [
    {
     "output_type": "stream",
     "name": "stdout",
     "output_type": "stream",
     "text": [
      "            0\nLow       213\nMedium     49\nHigh       20\nCritical    3\n"
     ]
    }
   ],
   "source": [
    "#Getting the count of various ranks for Oct2022\n",
    "print(pd.DataFrame(Octdata_df['RANK'].value_counts().values , Octdata_df['RANK'].value_counts().index))"
   ]
  },
  {
   "cell_type": "code",
   "execution_count": 0,
   "metadata": {
    "application/vnd.databricks.v1+cell": {
     "cellMetadata": {
      "byteLimit": 2048000,
      "rowLimit": 10000
     },
     "inputWidgets": {},
     "nuid": "2765f84f-db49-488d-9c21-e333d254f7b2",
     "showTitle": false,
     "title": ""
    }
   },
   "outputs": [
    {
     "output_type": "stream",
     "name": "stdout",
     "output_type": "stream",
     "text": [
      "            0\nLow       138\nMedium     31\nHigh       13\nCritical    2\n"
     ]
    }
   ],
   "source": [
    "#Getting the count of various ranks for Nov2022\n",
    "print(pd.DataFrame(Novdata_df['RANK'].value_counts().values , Novdata_df['RANK'].value_counts().index))"
   ]
  },
  {
   "cell_type": "code",
   "execution_count": 0,
   "metadata": {
    "application/vnd.databricks.v1+cell": {
     "cellMetadata": {
      "byteLimit": 2048000,
      "rowLimit": 10000
     },
     "inputWidgets": {},
     "nuid": "5485c47f-d729-4bbb-91ac-4c255b029c36",
     "showTitle": false,
     "title": ""
    }
   },
   "outputs": [
    {
     "output_type": "display_data",
     "data": {
      "image/png": "[encoded data removed]"
     },
     "metadata": {
      "application/vnd.databricks.v1+output": {
       "addedWidgets": {},
       "arguments": {},
       "data": "data:image/png;base64,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\n",
       "datasetInfos": [],
       "metadata": {},
       "removedWidgets": [],
       "type": "image"
      }
     },
     "output_type": "display_data"
    }
   ],
   "source": [
    "# plotting data on chart\n",
    "plt.pie(Octdata_df['RANK'].value_counts().values, labels=Octdata_df['RANK'].value_counts().index, autopct='%.0f%%') \n",
    "# displaying chart\n",
    "plt.show()"
   ]
  },
  {
   "cell_type": "code",
   "execution_count": 0,
   "metadata": {
    "application/vnd.databricks.v1+cell": {
     "cellMetadata": {},
     "inputWidgets": {},
     "nuid": "3c83d911-4907-4e4a-8ee9-7e81a0cc08e0",
     "showTitle": false,
     "title": ""
    }
   },
   "outputs": [],
   "source": []
  }
 ],
 "metadata": {
  "application/vnd.databricks.v1+notebook": {
   "dashboards": [],
   "environmentMetadata": null,
   "language": "python",
   "notebookMetadata": {
    "pythonIndentUnit": 2
   },
   "notebookName": "Growth_model_metrics_V3",
   "widgets": {
    "Country Name": {
     "currentValue": "Germany",
     "nuid": "cc47db08-a5b0-463e-874b-ceb4fb3ac51b",
     "typedWidgetInfo": null,
     "widgetInfo": {
      "widgetType": "text",
      "defaultValue": "Germany",
      "label": null,
      "name": "Country Name",
      "options": {
       "widgetType": "text",
       "autoCreated": null,
       "validationRegex": null
      }
     }
    },
    "End DateYearmonth": {
     "currentValue": "20230101",
     "nuid": "913210ff-0176-4be4-bd9c-853106cc9f6c",
     "typedWidgetInfo": null,
     "widgetInfo": {
      "widgetType": "text",
      "defaultValue": "20230101",
      "label": null,
      "name": "End DateYearmonth",
      "options": {
       "widgetType": "text",
       "autoCreated": null,
       "validationRegex": null
      }
     }
    },
    "First DateYearmonth": {
     "currentValue": "20221001",
     "nuid": "790f301d-0744-4d6b-bf56-b20aefe0b384",
     "typedWidgetInfo": null,
     "widgetInfo": {
      "widgetType": "text",
      "defaultValue": "20221001",
      "label": null,
      "name": "First DateYearmonth",
      "options": {
       "widgetType": "text",
       "autoCreated": null,
       "validationRegex": null
      }
     }
    },
    "First Yearmonth": {
     "currentValue": "202210",
     "nuid": "7c3c64df-a58e-4bed-aed6-1aa8168c09f2",
     "typedWidgetInfo": null,
     "widgetInfo": {
      "widgetType": "text",
      "defaultValue": "202210",
      "label": null,
      "name": "First Yearmonth",
      "options": {
       "widgetType": "text",
       "autoCreated": null,
       "validationRegex": null
      }
     }
    },
    "Product Name": {
     "currentValue": "TRELEGY",
     "nuid": "e8439100-a388-432f-8a71-870504b48dbe",
     "typedWidgetInfo": null,
     "widgetInfo": {
      "widgetType": "text",
      "defaultValue": "TRELEGY",
      "label": null,
      "name": "Product Name",
      "options": {
       "widgetType": "text",
       "autoCreated": null,
       "validationRegex": null
      }
     }
    },
    "Second DateYearmonth": {
     "currentValue": "20221101",
     "nuid": "0fa33a99-53eb-44b8-ad22-28c7009b993f",
     "typedWidgetInfo": null,
     "widgetInfo": {
      "widgetType": "text",
      "defaultValue": "20221101",
      "label": null,
      "name": "Second DateYearmonth",
      "options": {
       "widgetType": "text",
       "autoCreated": null,
       "validationRegex": null
      }
     }
    },
    "Second Yearmonth": {
     "currentValue": "202211",
     "nuid": "f3431d21-8e25-4326-8c24-6226fb8dc1fa",
     "typedWidgetInfo": null,
     "widgetInfo": {
      "widgetType": "text",
      "defaultValue": "202211",
      "label": null,
      "name": "Second Yearmonth",
      "options": {
       "widgetType": "text",
       "autoCreated": null,
       "validationRegex": null
      }
     }
    },
    "Target DB Name": {
     "currentValue": "opportunity_engine",
     "nuid": "0c4f9792-aa6c-4918-aefe-70b3095ef214",
     "typedWidgetInfo": null,
     "widgetInfo": {
      "widgetType": "text",
      "defaultValue": "opportunity_engine",
      "label": null,
      "name": "Target DB Name",
      "options": {
       "widgetType": "text",
       "autoCreated": null,
       "validationRegex": null
      }
     }
    },
    "Target Table Name Prefix": {
     "currentValue": "aggregate_new",
     "nuid": "52e41dcf-7e39-471a-ba5d-681216f4bf4c",
     "typedWidgetInfo": null,
     "widgetInfo": {
      "widgetType": "text",
      "defaultValue": "aggregate_new",
      "label": null,
      "name": "Target Table Name Prefix",
      "options": {
       "widgetType": "text",
       "autoCreated": null,
       "validationRegex": null
      }
     }
    },
    "Third DateYearmonth": {
     "currentValue": "20221201",
     "nuid": "1e292b32-21b7-4362-a26c-e637f3fd7fca",
     "typedWidgetInfo": null,
     "widgetInfo": {
      "widgetType": "text",
      "defaultValue": "20221201",
      "label": null,
      "name": "Third DateYearmonth",
      "options": {
       "widgetType": "text",
       "autoCreated": null,
       "validationRegex": null
      }
     }
    },
    "Third Yearmonth": {
     "currentValue": "202212",
     "nuid": "937e828c-0475-471e-b0c3-95b1c4ad0be1",
     "typedWidgetInfo": null,
     "widgetInfo": {
      "widgetType": "text",
      "defaultValue": "202212",
      "label": null,
      "name": "Third Yearmonth",
      "options": {
       "widgetType": "text",
       "autoCreated": null,
       "validationRegex": null
      }
     }
    }
   }
  }
 },
 "nbformat": 4,
 "nbformat_minor": 0
}
